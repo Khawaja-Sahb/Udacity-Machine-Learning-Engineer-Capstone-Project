{
 "cells": [
  {
   "cell_type": "code",
   "execution_count": null,
   "metadata": {},
   "outputs": [],
   "source": [
    "adam = Adam(lr=1e-5, beta_1=0.9, beta_2=0.999, epsilon=None, decay=0.0, amsgrad=False)\n",
    "\n",
    "initial_epoch=0  \n",
    "epochs = 10\n",
    "for ticker in tickers:\n",
    "    X_train_unstack, y_train_unstack = ReportFunctions.data_for_modelling(X_train,y_train,ticker,days = return_days)\n",
    "    \n",
    "    print(X_train_unstack.shape[1])\n",
    "\n",
    "    checkpointer = ModelCheckpoint(filepath='saved_models/weights.best_by_ticker.hdf5', monitor='acc',\n",
    "                                   verbose=1, save_best_only=True, mode='max')\n",
    "    try:\n",
    "        loaded_model=load_model('saved_models/weights.best_by_ticker.hdf5')\n",
    "        #loaded_model.summary()\n",
    "        model = Sequential()\n",
    "        model.add(Dense(500, input_dim=X_train_unstack.shape[1], activation='relu'))\n",
    "        model.add(Dropout(0.2))\n",
    "        model.add(Dense(300, input_dim=X_train_unstack.shape[1], activation='relu'))\n",
    "        model.add(Dropout(0.2))\n",
    "        model.add(Dense(1, activation='sigmoid'))\n",
    "        for i in range(1,len(loaded_model.layers[1:])):\n",
    "            model.layers[i].set_weights(model.layers[i].get_weights())\n",
    "        #model.summary()\n",
    "    except:\n",
    "        model = Sequential()\n",
    "        model.add(Dense(500, input_dim=X_train_unstack.shape[1], activation='relu'))\n",
    "        model.add(Dropout(0.2))\n",
    "        model.add(Dense(300, input_dim=X_train_unstack.shape[1], activation='relu'))\n",
    "        model.add(Dropout(0.2))\n",
    "        model.add(Dense(1, activation='sigmoid'))\n",
    "    model.compile(loss='mean_squared_error', optimizer=adam,metrics=['accuracy'])\n",
    "    ### TODO: Define your architecture.\n",
    "    \n",
    "    #model.summary()\n",
    "    model.fit(X_train_unstack, y_train_unstack,\n",
    "              epochs=epochs, batch_size=100, callbacks=[checkpointer], verbose=1, initial_epoch = initial_epoch)\n",
    "    initial_epoch+=10\n",
    "    epochs = initial_epoch+10"
   ]
  }
 ],
 "metadata": {
  "kernelspec": {
   "display_name": "Python 3",
   "language": "python",
   "name": "python3"
  },
  "language_info": {
   "codemirror_mode": {
    "name": "ipython",
    "version": 3
   },
   "file_extension": ".py",
   "mimetype": "text/x-python",
   "name": "python",
   "nbconvert_exporter": "python",
   "pygments_lexer": "ipython3",
   "version": "3.6.5"
  }
 },
 "nbformat": 4,
 "nbformat_minor": 2
}
